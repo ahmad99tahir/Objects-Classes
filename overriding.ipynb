{
 "cells": [
  {
   "cell_type": "code",
   "execution_count": 1,
   "metadata": {},
   "outputs": [
    {
     "name": "stdout",
     "output_type": "stream",
     "text": [
      "Inside Parent\n",
      "Inside Child\n"
     ]
    }
   ],
   "source": [
    "# Python program to demonstrate \n",
    "# method overriding \n",
    "\n",
    "\n",
    "# Defining parent class \n",
    "class Parent(): \n",
    "\t\n",
    "\t# Constructor \n",
    "\tdef __init__(self): \n",
    "\t\tself.value = \"Inside Parent\"\n",
    "\t\t\n",
    "\t# Parent's show method \n",
    "\tdef show(self): \n",
    "\t\tprint(self.value) \n",
    "\t\t\n",
    "# Defining child class \n",
    "class Child(Parent): \n",
    "\t\n",
    "\t# Constructor \n",
    "\tdef __init__(self): \n",
    "\t\tself.value = \"Inside Child\"\n",
    "\t\t\n",
    "\t# Child's show method \n",
    "\tdef show(self): \n",
    "\t\tprint(self.value) \n",
    "\t\t\n",
    "\t\t\n",
    "# Driver's code \n",
    "obj1 = Parent() \n",
    "obj2 = Child() \n",
    "\n",
    "obj1.show() \n",
    "obj2.show() \n"
   ]
  },
  {
   "cell_type": "code",
   "execution_count": 2,
   "metadata": {},
   "outputs": [
    {
     "name": "stdout",
     "output_type": "stream",
     "text": [
      "Inside Child\n",
      "Inside Parent2\n"
     ]
    }
   ],
   "source": [
    "# Python program to demonstrate \n",
    "# overriding in multiple inheritance \n",
    "\n",
    "\n",
    "# Defining parent class 1 \n",
    "class Parent1(): \n",
    "\t\t\n",
    "\t# Parent's show method \n",
    "\tdef show(self): \n",
    "\t\tprint(\"Inside Parent1\") \n",
    "\t\t\n",
    "# Defining Parent class 2 \n",
    "class Parent2(): \n",
    "\t\t\n",
    "\t# Parent's show method \n",
    "\tdef display(self): \n",
    "\t\tprint(\"Inside Parent2\") \n",
    "\t\t\n",
    "\t\t\n",
    "# Defining child class \n",
    "class Child(Parent1, Parent2): \n",
    "\t\t\n",
    "\t# Child's show method \n",
    "\tdef show(self): \n",
    "\t\tprint(\"Inside Child\") \n",
    "\t\n",
    "\t\t\n",
    "# Driver's code \n",
    "obj = Child() \n",
    "\n",
    "obj.show() \n",
    "obj.display() \n"
   ]
  },
  {
   "cell_type": "code",
   "execution_count": 3,
   "metadata": {},
   "outputs": [
    {
     "name": "stdout",
     "output_type": "stream",
     "text": [
      "Inside GrandChild\n",
      "Inside Parent\n"
     ]
    }
   ],
   "source": [
    "# Python program to demonstrate \n",
    "# overriding in multilevel inheritance \n",
    "\n",
    "\n",
    "# Python program to demonstrate \n",
    "# overriding in multilevel inheritance \n",
    "\n",
    "\n",
    "class Parent(): \n",
    "\t\t\n",
    "\t# Parent's show method \n",
    "\tdef display(self): \n",
    "\t\tprint(\"Inside Parent\") \n",
    "\t\n",
    "\t\n",
    "# Inherited or Sub class (Note Parent in bracket) \n",
    "class Child(Parent): \n",
    "\t\t\n",
    "\t# Child's show method \n",
    "\tdef show(self): \n",
    "\t\tprint(\"Inside Child\") \n",
    "\t\n",
    "# Inherited or Sub class (Note Child in bracket) \n",
    "class GrandChild(Child): \n",
    "\t\t\n",
    "\t# Child's show method \n",
    "\tdef show(self): \n",
    "\t\tprint(\"Inside GrandChild\")\t\t \n",
    "\t\n",
    "# Driver code \n",
    "g = GrandChild() \n",
    "g.show() \n",
    "g.display() \n"
   ]
  },
  {
   "cell_type": "code",
   "execution_count": 4,
   "metadata": {},
   "outputs": [
    {
     "name": "stdout",
     "output_type": "stream",
     "text": [
      "Inside Parent\n",
      "Inside Child\n"
     ]
    }
   ],
   "source": [
    "# Python program to demonstrate \n",
    "# calling the parent's class method \n",
    "# inside the overridden method \n",
    "\n",
    "\n",
    "class Parent(): \n",
    "\t\n",
    "\tdef show(self): \n",
    "\t\tprint(\"Inside Parent\") \n",
    "\t\t\n",
    "class Child(Parent): \n",
    "\t\n",
    "\tdef show(self): \n",
    "\t\t\n",
    "\t\t# Calling the parent's class \n",
    "\t\t# method \n",
    "\t\tParent.show(self) \n",
    "\t\tprint(\"Inside Child\") \n",
    "\t\t\n",
    "# Driver's code \n",
    "obj = Child() \n",
    "obj.show() \n"
   ]
  },
  {
   "cell_type": "code",
   "execution_count": 5,
   "metadata": {},
   "outputs": [
    {
     "name": "stdout",
     "output_type": "stream",
     "text": [
      "Inside Parent\n",
      "Inside Child\n"
     ]
    }
   ],
   "source": [
    "# Python program to demonstrate \n",
    "# calling the parent's class method \n",
    "# inside the overridden method using \n",
    "# super() \n",
    "\n",
    "\n",
    "class Parent(): \n",
    "\t\n",
    "\tdef show(self): \n",
    "\t\tprint(\"Inside Parent\") \n",
    "\t\t\n",
    "class Child(Parent): \n",
    "\t\n",
    "\tdef show(self): \n",
    "\t\t\n",
    "\t\t# Calling the parent's class \n",
    "\t\t# method \n",
    "\t\tsuper().show() \n",
    "\t\tprint(\"Inside Child\") \n",
    "\t\t\n",
    "# Driver's code \n",
    "obj = Child() \n",
    "obj.show() \n"
   ]
  },
  {
   "cell_type": "code",
   "execution_count": null,
   "metadata": {},
   "outputs": [],
   "source": []
  }
 ],
 "metadata": {
  "kernelspec": {
   "display_name": "Python 3",
   "language": "python",
   "name": "python3"
  },
  "language_info": {
   "codemirror_mode": {
    "name": "ipython",
    "version": 3
   },
   "file_extension": ".py",
   "mimetype": "text/x-python",
   "name": "python",
   "nbconvert_exporter": "python",
   "pygments_lexer": "ipython3",
   "version": "3.11.2"
  }
 },
 "nbformat": 4,
 "nbformat_minor": 2
}
