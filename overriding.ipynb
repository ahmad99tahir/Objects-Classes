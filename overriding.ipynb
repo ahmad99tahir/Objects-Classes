{
 "cells": [
  {
   "cell_type": "code",
   "execution_count": 1,
   "metadata": {},
   "outputs": [
    {
     "name": "stdout",
     "output_type": "stream",
     "text": [
      "Inside Parent\n",
      "Inside Child\n"
     ]
    }
   ],
   "source": [
    "# Python program to demonstrate \n",
    "# method overriding \n",
    "\n",
    "\n",
    "# Defining parent class \n",
    "class Parent(): \n",
    "\t\n",
    "\t# Constructor \n",
    "\tdef __init__(self): \n",
    "\t\tself.value = \"Inside Parent\"\n",
    "\t\t\n",
    "\t# Parent's show method \n",
    "\tdef show(self): \n",
    "\t\tprint(self.value) \n",
    "\t\t\n",
    "# Defining child class \n",
    "class Child(Parent): \n",
    "\t\n",
    "\t# Constructor \n",
    "\tdef __init__(self): \n",
    "\t\tself.value = \"Inside Child\"\n",
    "\t\t\n",
    "\t# Child's show method \n",
    "\tdef show(self): \n",
    "\t\tprint(self.value) \n",
    "\t\t\n",
    "\t\t\n",
    "# Driver's code \n",
    "obj1 = Parent() \n",
    "obj2 = Child() \n",
    "\n",
    "obj1.show() \n",
    "obj2.show() \n"
   ]
  },
  {
   "cell_type": "code",
   "execution_count": 2,
   "metadata": {},
   "outputs": [
    {
     "name": "stdout",
     "output_type": "stream",
     "text": [
      "Inside Child\n",
      "Inside Parent2\n"
     ]
    }
   ],
   "source": [
    "# Python program to demonstrate \n",
    "# overriding in multiple inheritance \n",
    "\n",
    "\n",
    "# Defining parent class 1 \n",
    "class Parent1(): \n",
    "\t\t\n",
    "\t# Parent's show method \n",
    "\tdef show(self): \n",
    "\t\tprint(\"Inside Parent1\") \n",
    "\t\t\n",
    "# Defining Parent class 2 \n",
    "class Parent2(): \n",
    "\t\t\n",
    "\t# Parent's show method \n",
    "\tdef display(self): \n",
    "\t\tprint(\"Inside Parent2\") \n",
    "\t\t\n",
    "\t\t\n",
    "# Defining child class \n",
    "class Child(Parent1, Parent2): \n",
    "\t\t\n",
    "\t# Child's show method \n",
    "\tdef show(self): \n",
    "\t\tprint(\"Inside Child\") \n",
    "\t\n",
    "\t\t\n",
    "# Driver's code \n",
    "obj = Child() \n",
    "\n",
    "obj.show() \n",
    "obj.display() \n"
   ]
  },
  {
   "cell_type": "code",
   "execution_count": 3,
   "metadata": {},
   "outputs": [
    {
     "name": "stdout",
     "output_type": "stream",
     "text": [
      "Inside GrandChild\n",
      "Inside Parent\n"
     ]
    }
   ],
   "source": [
    "# Python program to demonstrate \n",
    "# overriding in multilevel inheritance \n",
    "\n",
    "\n",
    "# Python program to demonstrate \n",
    "# overriding in multilevel inheritance \n",
    "\n",
    "\n",
    "class Parent(): \n",
    "\t\t\n",
    "\t# Parent's show method \n",
    "\tdef display(self): \n",
    "\t\tprint(\"Inside Parent\") \n",
    "\t\n",
    "\t\n",
    "# Inherited or Sub class (Note Parent in bracket) \n",
    "class Child(Parent): \n",
    "\t\t\n",
    "\t# Child's show method \n",
    "\tdef show(self): \n",
    "\t\tprint(\"Inside Child\") \n",
    "\t\n",
    "# Inherited or Sub class (Note Child in bracket) \n",
    "class GrandChild(Child): \n",
    "\t\t\n",
    "\t# Child's show method \n",
    "\tdef show(self): \n",
    "\t\tprint(\"Inside GrandChild\")\t\t \n",
    "\t\n",
    "# Driver code \n",
    "g = GrandChild() \n",
    "g.show() \n",
    "g.display() \n"
   ]
  },
  {
   "cell_type": "code",
   "execution_count": 4,
   "metadata": {},
   "outputs": [
    {
     "name": "stdout",
     "output_type": "stream",
     "text": [
      "Inside Parent\n",
      "Inside Child\n"
     ]
    }
   ],
   "source": [
    "# Python program to demonstrate \n",
    "# calling the parent's class method \n",
    "# inside the overridden method \n",
    "\n",
    "\n",
    "class Parent(): \n",
    "\t\n",
    "\tdef show(self): \n",
    "\t\tprint(\"Inside Parent\") \n",
    "\t\t\n",
    "class Child(Parent): \n",
    "\t\n",
    "\tdef show(self): \n",
    "\t\t\n",
    "\t\t# Calling the parent's class \n",
    "\t\t# method \n",
    "\t\tParent.show(self) \n",
    "\t\tprint(\"Inside Child\") \n",
    "\t\t\n",
    "# Driver's code \n",
    "obj = Child() \n",
    "obj.show() \n"
   ]
  },
  {
   "cell_type": "code",
   "execution_count": 5,
   "metadata": {},
   "outputs": [
    {
     "name": "stdout",
     "output_type": "stream",
     "text": [
      "Inside Parent\n",
      "Inside Child\n"
     ]
    }
   ],
   "source": [
    "# Python program to demonstrate \n",
    "# calling the parent's class method \n",
    "# inside the overridden method using \n",
    "# super() \n",
    "\n",
    "\n",
    "class Parent(): \n",
    "\t\n",
    "\tdef show(self): \n",
    "\t\tprint(\"Inside Parent\") \n",
    "\t\t\n",
    "class Child(Parent): \n",
    "\t\n",
    "\tdef show(self): \n",
    "\t\t\n",
    "\t\t# Calling the parent's class \n",
    "\t\t# method \n",
    "\t\tsuper().show() \n",
    "\t\tprint(\"Inside Child\") \n",
    "\t\t\n",
    "# Driver's code \n",
    "obj = Child() \n",
    "obj.show() \n"
   ]
  },
  {
   "cell_type": "code",
   "execution_count": 6,
   "metadata": {},
   "outputs": [
    {
     "name": "stdout",
     "output_type": "stream",
     "text": [
      "HEY !!!!!! GfG I am initialised(Class GEG3)\n",
      "HEY !!!!!! GfG I am initialised(Class GEG2)\n",
      "HEY !!!!!! GfG I am initialised(Class GEG1)\n",
      "Printing from class GFG3: 10\n",
      "Printing from class GFG2: 11\n",
      "Printing from class GFG1: 12\n"
     ]
    }
   ],
   "source": [
    "# Program to define the use of super() \n",
    "# function in multiple inheritance \n",
    "class GFG1: \n",
    "\tdef __init__(self): \n",
    "\t\tprint('HEY !!!!!! GfG I am initialised(Class GEG1)') \n",
    "\t\n",
    "\tdef sub_GFG(self, b): \n",
    "\t\tprint('Printing from class GFG1:', b) \n",
    "\t\n",
    "# class GFG2 inherits the GFG1 \n",
    "class GFG2(GFG1): \n",
    "\tdef __init__(self): \n",
    "\t\tprint('HEY !!!!!! GfG I am initialised(Class GEG2)') \n",
    "\t\tsuper().__init__() \n",
    "\t\n",
    "\tdef sub_GFG(self, b): \n",
    "\t\tprint('Printing from class GFG2:', b) \n",
    "\t\tsuper().sub_GFG(b + 1) \n",
    "\t\n",
    "# class GFG3 inherits the GFG1 ang GFG2 both \n",
    "class GFG3(GFG2): \n",
    "\tdef __init__(self): \n",
    "\t\tprint('HEY !!!!!! GfG I am initialised(Class GEG3)') \n",
    "\t\tsuper().__init__() \n",
    "\t\n",
    "\tdef sub_GFG(self, b): \n",
    "\t\tprint('Printing from class GFG3:', b) \n",
    "\t\tsuper().sub_GFG(b + 1) \n",
    "\t\n",
    "\t\n",
    "# main function \n",
    "if __name__ == '__main__': \n",
    "\t\n",
    "\t# created the object gfg \n",
    "\tgfg = GFG3() \n",
    "\t\n",
    "\t# calling the function sub_GFG3() from class GHG3 \n",
    "\t# which inherits both GFG1 and GFG2 classes \n",
    "\tgfg.sub_GFG(10) \n"
   ]
  },
  {
   "cell_type": "code",
   "execution_count": 8,
   "metadata": {},
   "outputs": [],
   "source": [
    "Pakistan = ['Babar', 'Rizwan', 'Shaheen', 'Shadab', 'Haris', 'Nawaz', 'Naseem', 'Iftikhar', 'Fakhar', 'Rauf', 'Wasim', 'Ahmad']\n",
    "Zalmi = ['Babar', 'Haris']\n",
    "Qalandar = ['Shaheen', 'Fakhar', 'Rauf']\n",
    "United = ['Shadab', 'Naseem']\n",
    "Sultan = ['Rizwan', 'Iftikhar']\n",
    "Gladiator = ['Wasim']\n",
    "King = ['Nawaz']"
   ]
  },
  {
   "cell_type": "code",
   "execution_count": 10,
   "metadata": {},
   "outputs": [
    {
     "name": "stdout",
     "output_type": "stream",
     "text": [
      "Babar plays for Peshawar Zalmi.\n",
      "Rizwan plays for Multan Sultans.\n",
      "Shaheen plays for Lahore Qalandars.\n",
      "Shadab plays for Islamabad United.\n",
      "Haris plays for Peshawar Zalmi.\n",
      "Nawaz plays for Karachi Kings.\n",
      "Naseem plays for Islamabad United.\n",
      "Iftikhar plays for Multan Sultans.\n",
      "Fakhar plays for Lahore Qalandars.\n",
      "Rauf plays for Lahore Qalandars.\n",
      "Wasim plays for Quetta Gladiators.\n",
      "Ahmad wasn't picked in the draft.\n"
     ]
    }
   ],
   "source": [
    "for i in Pakistan:\n",
    "    if i in Zalmi:\n",
    "        print(i , \"plays for Peshawar Zalmi.\")\n",
    "    elif i in Qalandar:\n",
    "        print(i , \"plays for Lahore Qalandars.\")\n",
    "    elif i in United:\n",
    "        print(i , \"plays for Islamabad United.\")\n",
    "    elif i in King:\n",
    "        print(i , \"plays for Karachi Kings.\")\n",
    "    elif i in Gladiator:\n",
    "        print(i , \"plays for Quetta Gladiators.\")\n",
    "    elif i in Sultan:\n",
    "        print(i , \"plays for Multan Sultans.\")\n",
    "    else:\n",
    "        print(i , \"wasn't picked in the draft.\")"
   ]
  },
  {
   "cell_type": "code",
   "execution_count": null,
   "metadata": {},
   "outputs": [],
   "source": []
  },
  {
   "cell_type": "code",
   "execution_count": null,
   "metadata": {},
   "outputs": [],
   "source": []
  }
 ],
 "metadata": {
  "kernelspec": {
   "display_name": "Python 3",
   "language": "python",
   "name": "python3"
  },
  "language_info": {
   "codemirror_mode": {
    "name": "ipython",
    "version": 3
   },
   "file_extension": ".py",
   "mimetype": "text/x-python",
   "name": "python",
   "nbconvert_exporter": "python",
   "pygments_lexer": "ipython3",
   "version": "3.11.2"
  }
 },
 "nbformat": 4,
 "nbformat_minor": 2
}
