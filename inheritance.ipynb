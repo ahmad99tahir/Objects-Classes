{
 "cells": [
  {
   "cell_type": "code",
   "execution_count": null,
   "metadata": {},
   "outputs": [],
   "source": [
    "class Vehicle:\n",
    "    def __init__(self, started = False, speed = 0):\n",
    "        self.started = started\n",
    "        self.speed = speed\n",
    "    def start(self):\n",
    "        self.started = True\n",
    "        print(\"Started, let's ride!\")\n",
    "    def stop(self):\n",
    "        self.speed = 0\n",
    "    def increase_speed(self, delta):\n",
    "        if self.started:\n",
    "            self.speed = self.speed + delta\n",
    "            print(\"Vrooooom!\")\n",
    "        else:\n",
    "            print(\"You need to start me first\")"
   ]
  }
 ],
 "metadata": {
  "language_info": {
   "name": "python"
  }
 },
 "nbformat": 4,
 "nbformat_minor": 2
}
